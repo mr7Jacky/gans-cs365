{
 "cells": [
  {
   "cell_type": "markdown",
   "metadata": {},
   "source": [
    "# MNIST - GANs Animation\n",
    "In this notebook, we use the GANs network train with MNIST dataset. So that the neural network could generate the hand writting digits."
   ]
  },
  {
   "cell_type": "markdown",
   "metadata": {},
   "source": [
    "#### Import packagees"
   ]
  },
  {
   "cell_type": "code",
   "execution_count": 1,
   "metadata": {},
   "outputs": [],
   "source": [
    "%matplotlib widget\n",
    "import random\n",
    "import numpy as np\n",
    "import pickle\n",
    "import matplotlib\n",
    "import matplotlib.pyplot as plt\n",
    "import matplotlib.animation as animation"
   ]
  },
  {
   "cell_type": "markdown",
   "metadata": {},
   "source": [
    "#### Save the data"
   ]
  },
  {
   "cell_type": "code",
   "execution_count": null,
   "metadata": {},
   "outputs": [],
   "source": [
    "pickle.dump(a, open( \"animation.dat\", \"wb\" ) )"
   ]
  },
  {
   "cell_type": "markdown",
   "metadata": {},
   "source": [
    "#### Load the data"
   ]
  },
  {
   "cell_type": "code",
   "execution_count": 3,
   "metadata": {},
   "outputs": [],
   "source": [
    "a = pickle.load( open( \"animation.dat\", \"rb\" ) )"
   ]
  },
  {
   "cell_type": "markdown",
   "metadata": {},
   "source": [
    "#### Animation"
   ]
  },
  {
   "cell_type": "markdown",
   "metadata": {},
   "source": [
    "The following animation shows the changes of generated data throught generator after each epoch. The input is a fixed array of random numbers."
   ]
  },
  {
   "cell_type": "code",
   "execution_count": 4,
   "metadata": {},
   "outputs": [
    {
     "data": {
      "application/vnd.jupyter.widget-view+json": {
       "model_id": "66ab8e3d491f40b6a1eb73ad62c1ca3e",
       "version_major": 2,
       "version_minor": 0
      },
      "text/plain": [
       "Canvas(toolbar=Toolbar(toolitems=[('Home', 'Reset original view', 'home', 'home'), ('Back', 'Back to previous …"
      ]
     },
     "metadata": {},
     "output_type": "display_data"
    }
   ],
   "source": [
    "fps = 30\n",
    "nSeconds = 5\n",
    "\n",
    "# First set up the figure, the axis, and the plot element we want to animate\n",
    "fig = plt.figure( figsize=(8,4) )\n",
    "im = []\n",
    "for i in range(a.shape[1]):\n",
    "    ax = plt.subplot(4, 8, i + 1)\n",
    "    imi = plt.imshow(a[0][i], interpolation='none', aspect='auto', vmin=0, vmax=1, cmap='gray')\n",
    "    im.append(imi)\n",
    "    plt.xticks([])\n",
    "    plt.yticks([])\n",
    "fig.suptitle('After 0 epoch')\n",
    "def animate_func(i):\n",
    "    if i % fps == 0:\n",
    "        print( '.', end ='' )\n",
    "    \n",
    "    fig.suptitle('After '+str(i)+' epoch')\n",
    "    for j in range(a.shape[1]):\n",
    "        ax = plt.subplot(4, 8, i + 1)\n",
    "        im[j].set_array(a[i][j])\n",
    "        im.append(imi)\n",
    "        plt.xticks([])\n",
    "        plt.yticks([])\n",
    "    return [im]\n",
    "\n",
    "anim = animation.FuncAnimation(fig, animate_func, \n",
    "                               frames = nSeconds * fps,\n",
    "                               interval = 10000 / fps)"
   ]
  },
  {
   "cell_type": "code",
   "execution_count": null,
   "metadata": {},
   "outputs": [],
   "source": []
  }
 ],
 "metadata": {
  "kernelspec": {
   "display_name": "Python 3",
   "language": "python",
   "name": "python3"
  },
  "language_info": {
   "codemirror_mode": {
    "name": "ipython",
    "version": 3
   },
   "file_extension": ".py",
   "mimetype": "text/x-python",
   "name": "python",
   "nbconvert_exporter": "python",
   "pygments_lexer": "ipython3",
   "version": "3.7.3"
  }
 },
 "nbformat": 4,
 "nbformat_minor": 4
}
