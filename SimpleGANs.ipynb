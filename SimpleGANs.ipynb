{
 "cells": [
  {
   "cell_type": "markdown",
   "metadata": {},
   "source": [
    "##### ref https://realpython.com/generative-adversarial-networks/#your-first-gan"
   ]
  },
  {
   "cell_type": "markdown",
   "metadata": {},
   "source": [
    "## Simple GANs Example"
   ]
  },
  {
   "cell_type": "markdown",
   "metadata": {},
   "source": [
    "#### Introduction\n",
    "\n",
    "This project focuses on the exploration of generative adversarial network (GAN). A [generative adversarial network (GAN)](https://en.wikipedia.org/wiki/Generative_adversarial_network) is a class of machine learning frameworks designed by Ian Goodfellow and his colleagues in 2014. Two neural networks contest with each other in a game in the form of a zero-sum game, where one agent's gain is another agent's loss. In this project, we explore the basic concepts and structures behind the generative adversarial networks. We also perform this neural network on different datasets to learn some interesting application of this model. All the code we provided is written in python3 in jupyter notebook. "
   ]
  },
  {
   "cell_type": "markdown",
   "metadata": {},
   "source": [
    "This notebook give an example of GANs where we train neural networks to generating a sine function $f(x) = sin(x)$ given a series of random number"
   ]
  },
  {
   "cell_type": "markdown",
   "metadata": {},
   "source": [
    "### Import the essential pacakge\n",
    "First we import the essential package, including:\n",
    "1. pytorch which is the mainly package to build neural structure\n",
    "2. matplotlib is used to visualize the data"
   ]
  },
  {
   "cell_type": "code",
   "execution_count": 1,
   "metadata": {},
   "outputs": [],
   "source": [
    "import torch\n",
    "from torch import nn\n",
    "\n",
    "import math\n",
    "import matplotlib.pyplot as plt"
   ]
  },
  {
   "cell_type": "markdown",
   "metadata": {},
   "source": [
    "Set a random seed to reproduce the result"
   ]
  },
  {
   "cell_type": "code",
   "execution_count": 7,
   "metadata": {},
   "outputs": [
    {
     "data": {
      "text/plain": [
       "<torch._C.Generator at 0x7f912002f210>"
      ]
     },
     "execution_count": 7,
     "metadata": {},
     "output_type": "execute_result"
    }
   ],
   "source": [
    "torch.manual_seed(111)"
   ]
  },
  {
   "cell_type": "markdown",
   "metadata": {},
   "source": [
    "#### Create dataset"
   ]
  },
  {
   "cell_type": "markdown",
   "metadata": {},
   "source": [
    "Create the training set. The training set a series of point on sine function $f(x) = sin(x)$ where $x \\in [0, 2\\pi]$."
   ]
  },
  {
   "cell_type": "code",
   "execution_count": 8,
   "metadata": {},
   "outputs": [],
   "source": [
    "train_data_length = 1024\n",
    "train_data = torch.zeros((train_data_length, 2))\n",
    "train_data[:, 0] = 2 * math.pi * torch.rand(train_data_length)\n",
    "train_data[:, 1] = torch.sin(train_data[:, 0])\n",
    "train_labels = torch.zeros(train_data_length)\n",
    "train_set = [(train_data[i], train_labels[i]) for i in range(train_data_length)]"
   ]
  },
  {
   "cell_type": "markdown",
   "metadata": {},
   "source": [
    "Visualize the plot"
   ]
  },
  {
   "cell_type": "code",
   "execution_count": 9,
   "metadata": {},
   "outputs": [
    {
     "data": {
      "text/plain": [
       "[<matplotlib.lines.Line2D at 0x7f9093ee76d8>]"
      ]
     },
     "execution_count": 9,
     "metadata": {},
     "output_type": "execute_result"
    },
    {
     "data": {
      "image/png": "[encoded data removed]",
      "text/plain": [
       "<Figure size 432x288 with 1 Axes>"
      ]
     },
     "metadata": {
      "needs_background": "light"
     },
     "output_type": "display_data"
    }
   ],
   "source": [
    "plt.plot(train_data[:, 0], train_data[:, 1], \".\")"
   ]
  },
  {
   "cell_type": "markdown",
   "metadata": {},
   "source": [
    "#### Build the model"
   ]
  },
  {
   "cell_type": "markdown",
   "metadata": {},
   "source": [
    "The GANs consists of two neural networks, one called Discriminator and the other called Generator. The role of the generator is to estimate the probability distribution of the real samples in order to provide generated samples resembling real data. The discriminator, in turn, is trained to estimate the probability that a given sample came from the real data rather than being provided by the generator.\n",
    "\n",
    "![s](./img/GANsStruct.jpg)"
   ]
  },
  {
   "cell_type": "code",
   "execution_count": 10,
   "metadata": {},
   "outputs": [],
   "source": [
    "class Discriminator(nn.Module):\n",
    "    def __init__(self):\n",
    "        super().__init__()\n",
    "        self.model = nn.Sequential(\n",
    "            nn.Linear(2, 256),\n",
    "            nn.ReLU(),\n",
    "            nn.Dropout(0.3),\n",
    "            nn.Linear(256, 128),\n",
    "            nn.ReLU(),\n",
    "            nn.Dropout(0.3),\n",
    "            nn.Linear(128, 64),\n",
    "            nn.ReLU(),\n",
    "            nn.Dropout(0.3),\n",
    "            nn.Linear(64, 1),\n",
    "            nn.Sigmoid(),\n",
    "        )\n",
    "\n",
    "    def forward(self, x):\n",
    "        output = self.model(x)\n",
    "        return output"
   ]
  },
  {
   "cell_type": "code",
   "execution_count": 11,
   "metadata": {},
   "outputs": [],
   "source": [
    "class Generator(nn.Module):\n",
    "    def __init__(self):\n",
    "        super().__init__()\n",
    "        self.model = nn.Sequential(\n",
    "            nn.Linear(2, 16),\n",
    "            nn.ReLU(),\n",
    "            nn.Linear(16, 32),\n",
    "            nn.ReLU(),\n",
    "            nn.Linear(32, 2),\n",
    "        )\n",
    "\n",
    "    def forward(self, x):\n",
    "        output = self.model(x)\n",
    "        return output"
   ]
  },
  {
   "cell_type": "markdown",
   "metadata": {},
   "source": [
    "Instantiation"
   ]
  },
  {
   "cell_type": "code",
   "execution_count": 12,
   "metadata": {},
   "outputs": [],
   "source": [
    "discriminator = Discriminator()\n",
    "generator = Generator()"
   ]
  },
  {
   "cell_type": "markdown",
   "metadata": {},
   "source": [
    "#### Set hyperparameters"
   ]
  },
  {
   "cell_type": "code",
   "execution_count": 13,
   "metadata": {},
   "outputs": [],
   "source": [
    "lr = 0.001\n",
    "num_epochs = 300\n",
    "loss_function = nn.BCELoss()\n",
    "batch_size = 32\n",
    "train_loader = torch.utils.data.DataLoader(\n",
    "    train_set, batch_size=batch_size, shuffle=True\n",
    ")"
   ]
  },
  {
   "cell_type": "markdown",
   "metadata": {},
   "source": [
    "#### Set the optimization object\n",
    "What do optimizer do in neural network?\n",
    "\n",
    "`Adam` combines the best properties of the AdaGrad and RMSProp algorithms to provide an optimization algorithm that can handle sparse gradients on noisy problems."
   ]
  },
  {
   "cell_type": "code",
   "execution_count": 14,
   "metadata": {},
   "outputs": [],
   "source": [
    "optimizer_discriminator = torch.optim.Adam(discriminator.parameters(), lr=lr)\n",
    "optimizer_generator = torch.optim.Adam(generator.parameters(), lr=lr)"
   ]
  },
  {
   "cell_type": "markdown",
   "metadata": {},
   "source": [
    "Training process:\n",
    "1. Train the discriminator using real(1) data and fake(0) data. The discriminator will need to distinguish between the fake and real data points\n",
    "2. Train the generator using random numbers as input and let discriminator to do the classify output from generator. The loss is the difference of the classification result and true labels, all of which is of value 1"
   ]
  },
  {
   "cell_type": "code",
   "execution_count": 16,
   "metadata": {},
   "outputs": [],
   "source": [
    "def train(generator, discriminator, num_epochs, batch_size, train_loader):\n",
    "    for epoch in range(num_epochs):\n",
    "        for n, (real_samples, _) in enumerate(train_loader):\n",
    "            # Data for training the discriminator\n",
    "            real_samples_labels = torch.ones((batch_size, 1))\n",
    "            latent_space_samples = torch.randn((batch_size, 2))\n",
    "            generated_samples = generator(latent_space_samples)\n",
    "            generated_samples_labels = torch.zeros((batch_size, 1))\n",
    "            all_samples = torch.cat((real_samples, generated_samples))\n",
    "            all_samples_labels = torch.cat(\n",
    "                (real_samples_labels, generated_samples_labels)\n",
    "            )\n",
    "\n",
    "            # Training the discriminator\n",
    "            discriminator.zero_grad()\n",
    "            output_discriminator = discriminator(all_samples)\n",
    "            loss_discriminator = loss_function(\n",
    "                output_discriminator, all_samples_labels)\n",
    "            loss_discriminator.backward()\n",
    "            optimizer_discriminator.step()\n",
    "\n",
    "            # Data for training the generator\n",
    "            latent_space_samples = torch.randn((batch_size, 2))\n",
    "\n",
    "            # Training the generator\n",
    "            generator.zero_grad()\n",
    "            generated_samples = generator(latent_space_samples)\n",
    "            output_discriminator_generated = discriminator(generated_samples)\n",
    "            loss_generator = loss_function(\n",
    "                output_discriminator_generated, real_samples_labels\n",
    "            )\n",
    "            loss_generator.backward()\n",
    "            optimizer_generator.step()\n",
    "\n",
    "            # Show loss\n",
    "            if epoch % 10 == 0 and n == batch_size - 1:\n",
    "                print(f\"Epoch: {epoch} Loss D.: {loss_discriminator}\")\n",
    "                print(f\"Epoch: {epoch} Loss G.: {loss_generator}\")"
   ]
  },
  {
   "cell_type": "code",
   "execution_count": 18,
   "metadata": {},
   "outputs": [
    {
     "name": "stdout",
     "output_type": "stream",
     "text": [
      "Epoch: 0 Loss D.: 0.19172890484333038\n",
      "Epoch: 0 Loss G.: 2.205277919769287\n",
      "Epoch: 10 Loss D.: 0.6455698013305664\n",
      "Epoch: 10 Loss G.: 0.8941397666931152\n",
      "Epoch: 20 Loss D.: 0.643601655960083\n",
      "Epoch: 20 Loss G.: 0.8925288915634155\n",
      "Epoch: 30 Loss D.: 0.6730794906616211\n",
      "Epoch: 30 Loss G.: 0.9668323993682861\n",
      "Epoch: 40 Loss D.: 0.6405140161514282\n",
      "Epoch: 40 Loss G.: 0.7298990488052368\n",
      "Epoch: 50 Loss D.: 0.6809470057487488\n",
      "Epoch: 50 Loss G.: 0.7750263214111328\n",
      "Epoch: 60 Loss D.: 0.6326340436935425\n",
      "Epoch: 60 Loss G.: 0.8059306144714355\n",
      "Epoch: 70 Loss D.: 0.5179269313812256\n",
      "Epoch: 70 Loss G.: 1.0993049144744873\n",
      "Epoch: 80 Loss D.: 0.5927025675773621\n",
      "Epoch: 80 Loss G.: 0.8768778443336487\n",
      "Epoch: 90 Loss D.: 0.6255234479904175\n",
      "Epoch: 90 Loss G.: 0.7707381248474121\n",
      "Epoch: 100 Loss D.: 0.5345417857170105\n",
      "Epoch: 100 Loss G.: 0.8872535228729248\n",
      "Epoch: 110 Loss D.: 0.6842091083526611\n",
      "Epoch: 110 Loss G.: 0.6737083196640015\n",
      "Epoch: 120 Loss D.: 0.618989109992981\n",
      "Epoch: 120 Loss G.: 1.0244462490081787\n",
      "Epoch: 130 Loss D.: 0.651526689529419\n",
      "Epoch: 130 Loss G.: 0.7835967540740967\n",
      "Epoch: 140 Loss D.: 0.6564826965332031\n",
      "Epoch: 140 Loss G.: 0.736600935459137\n",
      "Epoch: 150 Loss D.: 0.7063291072845459\n",
      "Epoch: 150 Loss G.: 0.8015179634094238\n",
      "Epoch: 160 Loss D.: 0.7304964661598206\n",
      "Epoch: 160 Loss G.: 0.6758403182029724\n",
      "Epoch: 170 Loss D.: 0.6666960716247559\n",
      "Epoch: 170 Loss G.: 0.7535879611968994\n",
      "Epoch: 180 Loss D.: 0.6781765818595886\n",
      "Epoch: 180 Loss G.: 0.7857789993286133\n",
      "Epoch: 190 Loss D.: 0.6380088925361633\n",
      "Epoch: 190 Loss G.: 0.7979979515075684\n",
      "Epoch: 200 Loss D.: 0.6476839780807495\n",
      "Epoch: 200 Loss G.: 0.7968341112136841\n",
      "Epoch: 210 Loss D.: 0.6286032795906067\n",
      "Epoch: 210 Loss G.: 1.0192309617996216\n",
      "Epoch: 220 Loss D.: 0.6657217741012573\n",
      "Epoch: 220 Loss G.: 0.7269636392593384\n",
      "Epoch: 230 Loss D.: 0.7014310359954834\n",
      "Epoch: 230 Loss G.: 0.7147063612937927\n",
      "Epoch: 240 Loss D.: 0.7104332447052002\n",
      "Epoch: 240 Loss G.: 0.7164992690086365\n",
      "Epoch: 250 Loss D.: 0.7514128088951111\n",
      "Epoch: 250 Loss G.: 1.0906519889831543\n",
      "Epoch: 260 Loss D.: 0.5960716009140015\n",
      "Epoch: 260 Loss G.: 1.1555901765823364\n",
      "Epoch: 270 Loss D.: 0.6859428882598877\n",
      "Epoch: 270 Loss G.: 0.682672917842865\n",
      "Epoch: 280 Loss D.: 0.6769641041755676\n",
      "Epoch: 280 Loss G.: 0.7675719857215881\n",
      "Epoch: 290 Loss D.: 0.6696629524230957\n",
      "Epoch: 290 Loss G.: 0.764472246170044\n"
     ]
    }
   ],
   "source": [
    "train(generator, discriminator, num_epochs, batch_size, train_loader)"
   ]
  },
  {
   "cell_type": "markdown",
   "metadata": {},
   "source": [
    "#### Prediction"
   ]
  },
  {
   "cell_type": "markdown",
   "metadata": {},
   "source": [
    "Generate a series of random point and let the generator performs on these data poins and show the generated results"
   ]
  },
  {
   "cell_type": "code",
   "execution_count": 24,
   "metadata": {},
   "outputs": [
    {
     "data": {
      "image/png": "[encoded data removed]",
      "text/plain": [
       "<Figure size 432x288 with 1 Axes>"
      ]
     },
     "metadata": {
      "needs_background": "light"
     },
     "output_type": "display_data"
    }
   ],
   "source": [
    "latent_space_samples = torch.randn(500, 2)\n",
    "plt.plot(latent_space_samples[:, 0], latent_space_samples[:, 1], \".\")\n",
    "generated_samples = generator(latent_space_samples)"
   ]
  },
  {
   "cell_type": "code",
   "execution_count": 25,
   "metadata": {},
   "outputs": [
    {
     "data": {
      "text/plain": [
       "[<matplotlib.lines.Line2D at 0x7f9069e33b70>]"
      ]
     },
     "execution_count": 25,
     "metadata": {},
     "output_type": "execute_result"
    },
    {
     "data": {
      "image/png": "[encoded data removed]",
      "text/plain": [
       "<Figure size 432x288 with 1 Axes>"
      ]
     },
     "metadata": {
      "needs_background": "light"
     },
     "output_type": "display_data"
    }
   ],
   "source": [
    "generated_samples = generated_samples.detach()\n",
    "plt.plot(generated_samples[:, 0], generated_samples[:, 1], \".\")"
   ]
  }
 ],
 "metadata": {
  "kernelspec": {
   "display_name": "Python 3",
   "language": "python",
   "name": "python3"
  },
  "language_info": {
   "codemirror_mode": {
    "name": "ipython",
    "version": 3
   },
   "file_extension": ".py",
   "mimetype": "text/x-python",
   "name": "python",
   "nbconvert_exporter": "python",
   "pygments_lexer": "ipython3",
   "version": "3.7.3"
  }
 },
 "nbformat": 4,
 "nbformat_minor": 4
}
